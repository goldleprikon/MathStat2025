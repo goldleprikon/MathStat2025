{
 "cells": [
  {
   "cell_type": "code",
   "execution_count": 1,
   "id": "33bff925",
   "metadata": {},
   "outputs": [],
   "source": [
    "import numpy as np\n",
    "import scipy.stats as stats"
   ]
  },
  {
   "cell_type": "code",
   "execution_count": 2,
   "id": "eb8e0d00",
   "metadata": {},
   "outputs": [
    {
     "data": {
      "image/png": "[encoded data removed]",
      "text/plain": [
       "<Figure size 640x480 with 1 Axes>"
      ]
     },
     "metadata": {},
     "output_type": "display_data"
    }
   ],
   "source": [
    "import numpy as np\n",
    "import matplotlib.pyplot as plt\n",
    "\n",
    "def my_density(x, etta):\n",
    "    return (etta - 1) / x ** etta\n",
    "\n",
    "def my_function(x, etta):\n",
    "    return x ** (1 - etta)\n",
    "\n",
    "# Генерируем значения x\n",
    "x = np.linspace(1, 10, 1000)\n",
    "\n",
    "# Генерируем значения y (плотность на каждом x)\n",
    "y = my_density(x, 2)\n",
    "\n",
    "# Create the plot\n",
    "plt.plot(x, y)\n",
    "plt.title('Моя функция плотности')\n",
    "plt.xlabel('x')\n",
    "plt.ylabel('Плотность')\n",
    "plt.show()"
   ]
  },
  {
   "cell_type": "code",
   "execution_count": 3,
   "id": "db309e56",
   "metadata": {},
   "outputs": [],
   "source": [
    "# Генерация выборки\n",
    "np.random.seed(0)\n",
    "etta = 2\n",
    "\n",
    "n = 100\n",
    "sample = np.random.uniform(0, 1, n)\n",
    "sample = (1 - sample) ** (1 / (1 - etta))\n",
    "\n",
    "confidence = 0.95\n",
    "x1 = (1 - confidence) / 2\n",
    "x2 = (1 + confidence) / 2"
   ]
  },
  {
   "cell_type": "code",
   "execution_count": 4,
   "id": "9e645b97",
   "metadata": {},
   "outputs": [
    {
     "data": {
      "text/plain": [
       "np.float64(1.8778762919676302)"
      ]
     },
     "execution_count": 4,
     "metadata": {},
     "output_type": "execute_result"
    }
   ],
   "source": [
    "med = np.median(sample)\n",
    "med"
   ]
  },
  {
   "cell_type": "code",
   "execution_count": 5,
   "id": "b5867565",
   "metadata": {},
   "outputs": [
    {
     "name": "stdout",
     "output_type": "stream",
     "text": [
      "Bootstrap 95% Доверительный интервал для t: (1.9004, 2.3458)\n",
      "Длина:  0.4454\n"
     ]
    }
   ],
   "source": [
    "B = 100000\n",
    "bootstrap_samples = np.random.choice(sample, (B, n), replace=True)\n",
    "\n",
    "# Оценка t как минимального значение распределения\n",
    "bootstrap_t_estimates = n / np.sum(np.log(bootstrap_samples), axis=1) + 1\n",
    "\n",
    "# Вычисляем среднее и CI дляt\n",
    "ci_lower_t = np.round(np.percentile(bootstrap_t_estimates, 2.5), 4)\n",
    "ci_upper_t = np.round(np.percentile(bootstrap_t_estimates, 97.5), 4)\n",
    "\n",
    "length_boot_param = np.round(ci_upper_t - ci_lower_t, 4)\n",
    "\n",
    "print(f'Bootstrap 95% Доверительный интервал для t: ({ci_lower_t}, {ci_upper_t})')\n",
    "print(\"Длина: \", length_boot_param)"
   ]
  },
  {
   "cell_type": "code",
   "execution_count": 6,
   "id": "c1f8a234",
   "metadata": {},
   "outputs": [
    {
     "name": "stdout",
     "output_type": "stream",
     "text": [
      "Bootstrap 95% Доверительный интервал для t: (1.83, 2.2773)\n",
      "Длина:  0.4473\n"
     ]
    }
   ],
   "source": [
    "B = 100000\n",
    "bootstrap_samples = np.random.choice(sample, (B, n), replace=True)\n",
    "\n",
    "est = n / np.sum(np.log(sample)) + 1\n",
    "\n",
    "# Оценка t как минимального значение распределения\n",
    "bootstrap_t_estimates = n / np.sum(np.log(bootstrap_samples), axis=1) + 1 - est\n",
    "\n",
    "# Вычисляем среднее и CI дляt\n",
    "ci_upper_t = np.round(est - np.percentile(bootstrap_t_estimates, 2.5), 4)\n",
    "ci_lower_t = np.round(est - np.percentile(bootstrap_t_estimates, 97.5), 4)\n",
    "\n",
    "length_boot_not_param = np.round(ci_upper_t - ci_lower_t, 4)\n",
    "\n",
    "print(f'Bootstrap 95% Доверительный интервал для t: ({ci_lower_t}, {ci_upper_t})')\n",
    "print(\"Длина: \", length_boot_not_param)"
   ]
  },
  {
   "cell_type": "code",
   "execution_count": 7,
   "id": "f6bf35b2",
   "metadata": {},
   "outputs": [
    {
     "name": "stdout",
     "output_type": "stream",
     "text": [
      "Средний доверительный интервал (95%): (np.float64(1.6459), np.float64(2.1098))\n",
      "Длина:  0.4639\n"
     ]
    }
   ],
   "source": [
    "t1 = -1.96\n",
    "t2 = 1.96\n",
    "\n",
    "\n",
    "h1 = np.round(med - t2 * (med * np.log(2) * np.log2(med)) / np.sqrt(n), 4)\n",
    "h2 = np.round(med - t1 * (med * np.log(2) * np.log2(med)) / np.sqrt(n), 4)\n",
    "confidence_interval = (h1, h2)\n",
    "length_med = np.round(h2 - h1, 4)\n",
    "\n",
    "\n",
    "print(f\"Средний доверительный интервал (95%): {confidence_interval}\")\n",
    "print(\"Длина: \", length_med)"
   ]
  },
  {
   "cell_type": "code",
   "execution_count": 8,
   "id": "9a1afcd4",
   "metadata": {},
   "outputs": [
    {
     "name": "stdout",
     "output_type": "stream",
     "text": [
      "Приближённный доверительный интервал (95%): (np.float64(1.8752), np.float64(2.3019))\n",
      "Длина:  0.4267\n"
     ]
    }
   ],
   "source": [
    "t1 = -1.96\n",
    "t2 = 1.96\n",
    "\n",
    "est = n / np.sum(np.log(sample)) + 1\n",
    "\n",
    "h1 = np.round(est - t2 * (est - 1) / np.sqrt(n), 4)\n",
    "h2 = np.round(est - t1 * (est - 1) / np.sqrt(n), 4)\n",
    "confidence_interval = (h1, h2)\n",
    "length_approx = np.round(h2 - h1, 4)\n",
    "\n",
    "print(f\"Приближённный доверительный интервал (95%): {confidence_interval}\")\n",
    "print(\"Длина: \", length_approx)"
   ]
  },
  {
   "cell_type": "code",
   "execution_count": 9,
   "id": "7d0ca7f4",
   "metadata": {},
   "outputs": [
    {
     "data": {
      "text/html": [
       "<div>\n",
       "<style scoped>\n",
       "    .dataframe tbody tr th:only-of-type {\n",
       "        vertical-align: middle;\n",
       "    }\n",
       "\n",
       "    .dataframe tbody tr th {\n",
       "        vertical-align: top;\n",
       "    }\n",
       "\n",
       "    .dataframe thead th {\n",
       "        text-align: right;\n",
       "    }\n",
       "</style>\n",
       "<table border=\"1\" class=\"dataframe\">\n",
       "  <thead>\n",
       "    <tr style=\"text-align: right;\">\n",
       "      <th></th>\n",
       "      <th>Длина</th>\n",
       "    </tr>\n",
       "  </thead>\n",
       "  <tbody>\n",
       "    <tr>\n",
       "      <th>Бутстрап с параметром</th>\n",
       "      <td>0.4454</td>\n",
       "    </tr>\n",
       "    <tr>\n",
       "      <th>Бутстрап без параметра</th>\n",
       "      <td>0.4473</td>\n",
       "    </tr>\n",
       "    <tr>\n",
       "      <th>Приближение</th>\n",
       "      <td>0.4267</td>\n",
       "    </tr>\n",
       "  </tbody>\n",
       "</table>\n",
       "</div>"
      ],
      "text/plain": [
       "                         Длина\n",
       "Бутстрап с параметром   0.4454\n",
       "Бутстрап без параметра  0.4473\n",
       "Приближение             0.4267"
      ]
     },
     "execution_count": 9,
     "metadata": {},
     "output_type": "execute_result"
    }
   ],
   "source": [
    "import pandas as pd\n",
    "\n",
    "data = {\"Бутстрап с параметром\": length_boot_param, \"Бутстрап без параметра\": length_boot_not_param, \"Приближение\": length_approx}\n",
    "df = pd.DataFrame(data, index=[\"Длина\"]).T\n",
    "\n",
    "df"
   ]
  },
  {
   "cell_type": "code",
   "execution_count": null,
   "id": "69ad92c4-b836-460e-8abc-09ff2c29a103",
   "metadata": {},
   "outputs": [],
   "source": []
  }
 ],
 "metadata": {
  "kernelspec": {
   "display_name": "Python 3 (ipykernel)",
   "language": "python",
   "name": "python3"
  },
  "language_info": {
   "codemirror_mode": {
    "name": "ipython",
    "version": 3
   },
   "file_extension": ".py",
   "mimetype": "text/x-python",
   "name": "python",
   "nbconvert_exporter": "python",
   "pygments_lexer": "ipython3",
   "version": "3.13.0"
  }
 },
 "nbformat": 4,
 "nbformat_minor": 5
}
