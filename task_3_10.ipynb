{
 "cells": [
  {
   "cell_type": "code",
   "execution_count": 1,
   "id": "dd287b89-ce44-466c-8d39-b3dfea8bfd60",
   "metadata": {},
   "outputs": [],
   "source": [
    "import numpy as np\n",
    "from scipy.stats import chi2\n",
    "from scipy.stats import norm\n",
    "import matplotlib.pyplot as plt\n",
    "import scipy.integrate as integrate\n",
    "import scipy.special as special\n",
    "from scipy.stats import norm\n",
    "from scipy.optimize import minimize\n",
    "from statsmodels.distributions.empirical_distribution import ECDF\n",
    "from scipy import stats\n",
    "from sklearn.utils import resample"
   ]
  },
  {
   "cell_type": "markdown",
   "id": "79616fab-8b32-442a-ba75-4550e8a9c629",
   "metadata": {},
   "source": [
    "# A"
   ]
  },
  {
   "cell_type": "code",
   "execution_count": 2,
   "id": "705576df-1c2f-45f7-824e-132bcc6c9acf",
   "metadata": {},
   "outputs": [],
   "source": [
    "arr = np.array([5, 8, 6, 12, 14, 18, 11, 6, 13, 7])\n",
    "n = np.sum(arr)\n",
    "values = np.array([i for i in range(10)])"
   ]
  },
  {
   "cell_type": "code",
   "execution_count": 3,
   "id": "948f11de-c665-4a9d-be91-cafb46efbef5",
   "metadata": {},
   "outputs": [],
   "source": [
    "def prefix_sum(x):\n",
    "    for i in range(1, 10):\n",
    "        x[i] += x[i-1]\n",
    "    return x\n",
    "\n",
    "y_uniform = values/9\n",
    "y_prefix = prefix_sum(arr / 100)"
   ]
  },
  {
   "cell_type": "code",
   "execution_count": 4,
   "id": "a831b675-d337-4d70-9eb5-f1f449dfe8d9",
   "metadata": {},
   "outputs": [
    {
     "name": "stdout",
     "output_type": "stream",
     "text": [
      "delta~ = 1.4333333333333331\n",
      "p-value = 0.03348\n"
     ]
    },
    {
     "data": {
      "image/png": "[encoded data removed]",
      "text/plain": [
       "<Figure size 640x480 with 1 Axes>"
      ]
     },
     "metadata": {},
     "output_type": "display_data"
    }
   ],
   "source": [
    "plt.axis([0, 9, 0, 1])\n",
    "plt.title('F(x)')\n",
    "\n",
    "plt.plot(values, y_uniform)\n",
    "plt.step(values, y_prefix, where='post')\n",
    "    \n",
    "arr_delta1 = np.abs(y_uniform - y_prefix)\n",
    "arr_delta2 = np.zeros_like(arr_delta1)\n",
    "arr_delta2[1:] = abs(y_uniform[1:10] - y_prefix[0:9])\n",
    "sup1 = max(arr_delta1)\n",
    "sup2 = max(arr_delta2)\n",
    "sup = max(sup1, sup2)\n",
    "print(\"delta~ =\", np.sqrt(n) * sup)\n",
    "\n",
    "print(\"p-value = 0.03348\")  # Из таблицы Колмогорова"
   ]
  },
  {
   "cell_type": "markdown",
   "id": "ae1126ed-7bb0-435a-b463-938740fbb203",
   "metadata": {},
   "source": [
    "# Б"
   ]
  },
  {
   "cell_type": "code",
   "execution_count": 5,
   "id": "95a3d012-31a4-445c-8b31-67df54c0e0e2",
   "metadata": {},
   "outputs": [],
   "source": [
    "intervals = [(0, 1), (1, 2), (2, 3), (3, 4), (4, 5), (5, 6), (6, 7), (7, 8), (8, 9), (9, 10)]\n",
    "counts = [5, 8, 6, 12, 14, 18, 11, 6, 13, 7]"
   ]
  },
  {
   "cell_type": "code",
   "execution_count": 6,
   "id": "abfdb205-6a1c-41af-84af-a30b0c147ff0",
   "metadata": {},
   "outputs": [
    {
     "name": "stdout",
     "output_type": "stream",
     "text": [
      "[0.5, 0.5, 0.5, 0.5, 0.5, 1.5, 1.5, 1.5, 1.5, 1.5, 1.5, 1.5, 1.5, 2.5, 2.5, 2.5, 2.5, 2.5, 2.5, 3.5, 3.5, 3.5, 3.5, 3.5, 3.5, 3.5, 3.5, 3.5, 3.5, 3.5, 3.5, 4.5, 4.5, 4.5, 4.5, 4.5, 4.5, 4.5, 4.5, 4.5, 4.5, 4.5, 4.5, 4.5, 4.5, 5.5, 5.5, 5.5, 5.5, 5.5, 5.5, 5.5, 5.5, 5.5, 5.5, 5.5, 5.5, 5.5, 5.5, 5.5, 5.5, 5.5, 5.5, 6.5, 6.5, 6.5, 6.5, 6.5, 6.5, 6.5, 6.5, 6.5, 6.5, 6.5, 7.5, 7.5, 7.5, 7.5, 7.5, 7.5, 8.5, 8.5, 8.5, 8.5, 8.5, 8.5, 8.5, 8.5, 8.5, 8.5, 8.5, 8.5, 8.5, 9.5, 9.5, 9.5, 9.5, 9.5, 9.5, 9.5]\n"
     ]
    }
   ],
   "source": [
    "data = []\n",
    "for (start, end), count in zip(intervals, counts):\n",
    "    midpoint = (start + end) / 2\n",
    "    data.extend([midpoint] * count)\n",
    "\n",
    "print(data)"
   ]
  },
  {
   "cell_type": "code",
   "execution_count": 7,
   "id": "b16fd5fb-7b7a-43d1-98d1-e463f9329b79",
   "metadata": {},
   "outputs": [],
   "source": [
    "initial_params = [np.mean(data), np.std(data)]\n"
   ]
  },
  {
   "cell_type": "code",
   "execution_count": 8,
   "id": "6ada6436-4e2a-410f-8ab9-a53e70004516",
   "metadata": {},
   "outputs": [],
   "source": [
    "def likelihood(params):\n",
    "    mu, sigma = params[0], params[1]\n",
    "    if sigma <= 0:\n",
    "        return np.inf\n",
    "    return -np.sum(norm.logpdf(data, mu, sigma))"
   ]
  },
  {
   "cell_type": "code",
   "execution_count": 9,
   "id": "9d2f1bc7-1afa-4627-a835-3f1215f56335",
   "metadata": {},
   "outputs": [
    {
     "name": "stdout",
     "output_type": "stream",
     "text": [
      "Оценка mu: 5.27\n",
      "Оценка sigma: 2.505414137423193\n"
     ]
    }
   ],
   "source": [
    "result = minimize(likelihood, initial_params, method='L-BFGS-B', bounds=[(-np.inf, np.inf), (0, np.inf)])\n",
    "\n",
    "mu, sigma = result.x\n",
    "print(f'Оценка mu: {mu}')\n",
    "print(f'Оценка sigma: {sigma}')"
   ]
  },
  {
   "cell_type": "code",
   "execution_count": 10,
   "id": "7aab1f70-cc11-43e4-a71f-9cf19e0dc11b",
   "metadata": {},
   "outputs": [
    {
     "name": "stdout",
     "output_type": "stream",
     "text": [
      "p_i * n: [0.04416168 0.05175522 0.08654102 0.1236538  0.1509787  0.15752502\n",
      " 0.1404461  0.10700263 0.06966263 0.06827321]\n"
     ]
    }
   ],
   "source": [
    "def f(x):\n",
    "    global sigma, mu\n",
    "    return norm.pdf(x, mu, sigma)\n",
    "\n",
    "integral_intervals = [-np.inf, 1, 2, 3, 4, 5, 6, 7, 8, 9, np.inf]\n",
    "p = np.array([integrate.quad(f, integral_intervals[i-1], integral_intervals[i])[0] for i in range(1, 11)])\n",
    "print(f\"p_i * n: {p}\")"
   ]
  },
  {
   "cell_type": "code",
   "execution_count": 11,
   "id": "a9d5bd6a-7014-437b-9e39-9b0bff23a301",
   "metadata": {},
   "outputs": [
    {
     "name": "stdout",
     "output_type": "stream",
     "text": [
      "delta~ = 10.798973140500925\n"
     ]
    }
   ],
   "source": [
    "delta = np.sum((counts - p * n) ** 2 / (p * n))\n",
    "print(\"delta~ =\", delta)"
   ]
  },
  {
   "cell_type": "code",
   "execution_count": 12,
   "id": "5587b6c7-5007-456a-9940-e5e90d72ec76",
   "metadata": {},
   "outputs": [
    {
     "name": "stdout",
     "output_type": "stream",
     "text": [
      "p-value = 0.14763126040115765\n"
     ]
    }
   ],
   "source": [
    "def f(x):\n",
    "    return chi2.pdf(x, 7)\n",
    "\n",
    "answer = integrate.quad(f, delta, np.inf)[0]\n",
    "print(f\"p-value = {answer}\")"
   ]
  },
  {
   "cell_type": "markdown",
   "id": "5ac6033a-0dbf-45a2-8be9-b7e90aae6501",
   "metadata": {},
   "source": [
    "# Bootstrap"
   ]
  },
  {
   "cell_type": "code",
   "execution_count": 13,
   "id": "afad8b57-9622-4bd1-a5e1-8a47304d476b",
   "metadata": {},
   "outputs": [],
   "source": [
    "data = np.array(([0] * 5 + [1] * 8 + [2] * 6 + [3] * 12 + [4] * 14 + [5] * 18 + [6] * 11 + [7] * 6 + [8] * 13 + [9] * 7))\n",
    "N = len(data)"
   ]
  },
  {
   "cell_type": "code",
   "execution_count": 14,
   "id": "6976f5ea-93ea-4778-ad6b-bf2bc56bc715",
   "metadata": {},
   "outputs": [],
   "source": [
    "# ~F(x) - эмпирическая функция\n",
    "counts = np.array([np.count_nonzero(data == i) for i in range(10)])\n",
    "probabilities = counts / counts.sum()\n",
    "F_ = np.cumsum(probabilities)"
   ]
  },
  {
   "cell_type": "code",
   "execution_count": 15,
   "id": "0a284bfe-c02b-492a-982c-394d6092e7bb",
   "metadata": {},
   "outputs": [],
   "source": [
    "values = [0, 1, 2, 3, 4, 5, 6, 7, 8, 9]\n",
    "F = norm.cdf(values, mu, sigma)"
   ]
  },
  {
   "cell_type": "code",
   "execution_count": 16,
   "id": "913cac38-1531-4e1f-8d77-90bff2e4b870",
   "metadata": {},
   "outputs": [
    {
     "name": "stdout",
     "output_type": "stream",
     "text": [
      "Delta = 3.2388828767538627\n"
     ]
    }
   ],
   "source": [
    "arr_delta1 = np.abs(F_ - F)\n",
    "arr_delta2 = np.zeros_like(arr_delta1)\n",
    "arr_delta2[1:] = abs(F_[1:10] - F[0:9])\n",
    "sup1 = max(arr_delta1)\n",
    "sup2 = max(arr_delta2)\n",
    "sup = max(sup1, sup2)\n",
    "\n",
    "delta = np.sqrt(n) * sup\n",
    "print(\"Delta =\", np.sqrt(n) * sup)"
   ]
  },
  {
   "cell_type": "code",
   "execution_count": 17,
   "id": "03d4006f-3758-4a53-8c07-ffdf084bdea4",
   "metadata": {},
   "outputs": [
    {
     "name": "stdout",
     "output_type": "stream",
     "text": [
      "p-value = 0.50288\n"
     ]
    }
   ],
   "source": [
    "# Bootstrap\n",
    "B = 100000\n",
    "bootstrap_arr = []\n",
    "N_ = len(data)\n",
    "for _ in range(B):\n",
    "    sample = resample(data, replace = True)\n",
    "    counts = np.array([np.count_nonzero(sample == i) for i in range(10)])\n",
    "    probabilities = counts / counts.sum()\n",
    "    F_ = np.cumsum(probabilities)\n",
    "    arr_delta1 = np.abs(F_ - F)\n",
    "    arr_delta2 = np.zeros_like(arr_delta1)\n",
    "    arr_delta2[1:] = abs(F_[1:10] - F[0:9])\n",
    "    sup1 = max(arr_delta1)\n",
    "    sup2 = max(arr_delta2)\n",
    "    sup = max(sup1, sup2)\n",
    "    bootstrap_arr.append(np.sqrt(n) * sup)\n",
    "    \n",
    "lenght = len([x for x in bootstrap_arr if x <= delta]) \n",
    "p_value = lenght / B\n",
    "print(f\"p-value = {p_value}\")"
   ]
  },
  {
   "cell_type": "code",
   "execution_count": null,
   "id": "a86f12f9-a5d0-4bca-a5a7-75e7d02153d0",
   "metadata": {},
   "outputs": [],
   "source": []
  }
 ],
 "metadata": {
  "kernelspec": {
   "display_name": "Python 3 (ipykernel)",
   "language": "python",
   "name": "python3"
  },
  "language_info": {
   "codemirror_mode": {
    "name": "ipython",
    "version": 3
   },
   "file_extension": ".py",
   "mimetype": "text/x-python",
   "name": "python",
   "nbconvert_exporter": "python",
   "pygments_lexer": "ipython3",
   "version": "3.13.0"
  }
 },
 "nbformat": 4,
 "nbformat_minor": 5
}
